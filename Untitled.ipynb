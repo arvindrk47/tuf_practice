{
 "cells": [
  {
   "cell_type": "code",
   "execution_count": 14,
   "id": "a19931f5-a543-4474-a807-6359364bad9a",
   "metadata": {},
   "outputs": [
    {
     "name": "stdout",
     "output_type": "stream",
     "text": [
      "None\n"
     ]
    }
   ],
   "source": [
    "from typing import List  # Add this import statement to fix the error\n",
    "\n",
    "def twoSum(nums: List[int], target: int) -> List[int]:  # line 1, now uses List correctly\n",
    "    for i in range(len(nums)):\n",
    "        for j in range(1,i+1):\n",
    "            if nums[i]+nums[j] == target:\n",
    "                return [j,i]\n",
    "\n",
    "nums = [3, 2, 4]\n",
    "target = 6\n",
    "print(twoSum(nums, target))\n"
   ]
  },
  {
   "cell_type": "code",
   "execution_count": null,
   "id": "13c998ee-5433-44a1-8f10-e97500212070",
   "metadata": {},
   "outputs": [],
   "source": []
  }
 ],
 "metadata": {
  "kernelspec": {
   "display_name": "Python 3 (ipykernel)",
   "language": "python",
   "name": "python3"
  },
  "language_info": {
   "codemirror_mode": {
    "name": "ipython",
    "version": 3
   },
   "file_extension": ".py",
   "mimetype": "text/x-python",
   "name": "python",
   "nbconvert_exporter": "python",
   "pygments_lexer": "ipython3",
   "version": "3.12.7"
  }
 },
 "nbformat": 4,
 "nbformat_minor": 5
}
